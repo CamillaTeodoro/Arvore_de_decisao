{
 "cells": [
  {
   "cell_type": "markdown",
   "metadata": {
    "id": "WYfovYvpPtHN"
   },
   "source": [
    "**Atualizando a biblioteca para plotagem de gráficos**\n"
   ]
  },
  {
   "cell_type": "code",
   "execution_count": 21,
   "metadata": {
    "id": "hTIKXbn7PfB3"
   },
   "outputs": [],
   "source": [
    "!pip -q install plotly --upgrade\n",
    "!pip -q install yellowbrick"
   ]
  },
  {
   "cell_type": "markdown",
   "metadata": {
    "id": "vWFW_ECYPktU"
   },
   "source": [
    "**Importando bibliotecas**"
   ]
  },
  {
   "cell_type": "code",
   "execution_count": 22,
   "metadata": {
    "id": "kkOvJnL-P1QQ"
   },
   "outputs": [],
   "source": [
    "import pandas as pd\n",
    "import numpy as np\n",
    "import seaborn as sns\n",
    "import matplotlib.pyplot as plt\n",
    "import plotly.express as px\n",
    "from sklearn.tree import DecisionTreeClassifier"
   ]
  },
  {
   "cell_type": "code",
   "execution_count": null,
   "metadata": {
    "id": "Z-taahtkVxFc"
   },
   "outputs": [],
   "source": []
  },
  {
   "cell_type": "markdown",
   "metadata": {
    "id": "A5YB5ubEQfaE"
   },
   "source": [
    "**Abrindo um arquivo CSV do drive**"
   ]
  },
  {
   "cell_type": "code",
   "execution_count": 25,
   "metadata": {
    "colab": {
     "base_uri": "https://localhost:8080/"
    },
    "id": "3rzDkhcBQddF",
    "outputId": "533c1d5b-715a-4d91-cbce-13ddab1311ea"
   },
   "outputs": [],
   "source": [
    "base = pd.read_csv('restaurantev3.csv', sep=';')"
   ]
  },
  {
   "cell_type": "markdown",
   "metadata": {
    "id": "y-g8wDMln18q"
   },
   "source": [
    "**Você também pode carregar seu arquivo e já selecionar as colunas que desejar... investigue esta função**"
   ]
  },
  {
   "cell_type": "code",
   "execution_count": 26,
   "metadata": {
    "id": "i8-ualmHV-VU"
   },
   "outputs": [],
   "source": [
    "#base2 = pd.read_csv('restaurante.csv', ';', usecols=['Alternativo', 'Bar'])\n",
    "#base2"
   ]
  },
  {
   "cell_type": "code",
   "execution_count": 27,
   "metadata": {
    "colab": {
     "base_uri": "https://localhost:8080/",
     "height": 445
    },
    "id": "SFVtNXxPUAnR",
    "outputId": "2d8d8e8b-2e3f-43db-b2ba-5d6359b587bd"
   },
   "outputs": [
    {
     "data": {
      "text/html": [
       "<div>\n",
       "<style scoped>\n",
       "    .dataframe tbody tr th:only-of-type {\n",
       "        vertical-align: middle;\n",
       "    }\n",
       "\n",
       "    .dataframe tbody tr th {\n",
       "        vertical-align: top;\n",
       "    }\n",
       "\n",
       "    .dataframe thead th {\n",
       "        text-align: right;\n",
       "    }\n",
       "</style>\n",
       "<table border=\"1\" class=\"dataframe\">\n",
       "  <thead>\n",
       "    <tr style=\"text-align: right;\">\n",
       "      <th></th>\n",
       "      <th>Alternativo</th>\n",
       "      <th>Bar</th>\n",
       "      <th>Sex/Sab</th>\n",
       "      <th>fome</th>\n",
       "      <th>Cliente</th>\n",
       "      <th>Preco</th>\n",
       "      <th>Chuva</th>\n",
       "      <th>Res</th>\n",
       "      <th>Tipo</th>\n",
       "      <th>Tempo</th>\n",
       "      <th>Conclusao</th>\n",
       "    </tr>\n",
       "  </thead>\n",
       "  <tbody>\n",
       "    <tr>\n",
       "      <th>0</th>\n",
       "      <td>Sim</td>\n",
       "      <td>Nao</td>\n",
       "      <td>Nao</td>\n",
       "      <td>Sim</td>\n",
       "      <td>Alguns</td>\n",
       "      <td>RRR</td>\n",
       "      <td>Nao</td>\n",
       "      <td>Sim</td>\n",
       "      <td>Frances</td>\n",
       "      <td>0-10</td>\n",
       "      <td>Sim</td>\n",
       "    </tr>\n",
       "    <tr>\n",
       "      <th>1</th>\n",
       "      <td>Sim</td>\n",
       "      <td>Nao</td>\n",
       "      <td>Nao</td>\n",
       "      <td>Sim</td>\n",
       "      <td>Cheio</td>\n",
       "      <td>R</td>\n",
       "      <td>Nao</td>\n",
       "      <td>Nao</td>\n",
       "      <td>Tailandes</td>\n",
       "      <td>30-60</td>\n",
       "      <td>Nao</td>\n",
       "    </tr>\n",
       "    <tr>\n",
       "      <th>2</th>\n",
       "      <td>Nao</td>\n",
       "      <td>Sim</td>\n",
       "      <td>Nao</td>\n",
       "      <td>Nao</td>\n",
       "      <td>Alguns</td>\n",
       "      <td>R</td>\n",
       "      <td>Nao</td>\n",
       "      <td>Nao</td>\n",
       "      <td>Hamburger</td>\n",
       "      <td>0-10</td>\n",
       "      <td>Sim</td>\n",
       "    </tr>\n",
       "    <tr>\n",
       "      <th>3</th>\n",
       "      <td>Sim</td>\n",
       "      <td>Nao</td>\n",
       "      <td>Sim</td>\n",
       "      <td>Sim</td>\n",
       "      <td>Cheio</td>\n",
       "      <td>R</td>\n",
       "      <td>Sim</td>\n",
       "      <td>Nao</td>\n",
       "      <td>Tailandes</td>\n",
       "      <td>10-30</td>\n",
       "      <td>Sim</td>\n",
       "    </tr>\n",
       "    <tr>\n",
       "      <th>4</th>\n",
       "      <td>Sim</td>\n",
       "      <td>Nao</td>\n",
       "      <td>Sim</td>\n",
       "      <td>Nao</td>\n",
       "      <td>Cheio</td>\n",
       "      <td>RRR</td>\n",
       "      <td>Nao</td>\n",
       "      <td>Sim</td>\n",
       "      <td>Frances</td>\n",
       "      <td>&gt;60</td>\n",
       "      <td>Nao</td>\n",
       "    </tr>\n",
       "    <tr>\n",
       "      <th>5</th>\n",
       "      <td>Nao</td>\n",
       "      <td>Sim</td>\n",
       "      <td>Nao</td>\n",
       "      <td>Sim</td>\n",
       "      <td>Alguns</td>\n",
       "      <td>RR</td>\n",
       "      <td>Sim</td>\n",
       "      <td>Sim</td>\n",
       "      <td>Italiano</td>\n",
       "      <td>0-10</td>\n",
       "      <td>Sim</td>\n",
       "    </tr>\n",
       "    <tr>\n",
       "      <th>6</th>\n",
       "      <td>Nao</td>\n",
       "      <td>Sim</td>\n",
       "      <td>Nao</td>\n",
       "      <td>Nao</td>\n",
       "      <td>Nenhum</td>\n",
       "      <td>R</td>\n",
       "      <td>Sim</td>\n",
       "      <td>Nao</td>\n",
       "      <td>Hamburger</td>\n",
       "      <td>0-10</td>\n",
       "      <td>Nao</td>\n",
       "    </tr>\n",
       "    <tr>\n",
       "      <th>7</th>\n",
       "      <td>Nao</td>\n",
       "      <td>Nao</td>\n",
       "      <td>Nao</td>\n",
       "      <td>Sim</td>\n",
       "      <td>Alguns</td>\n",
       "      <td>RR</td>\n",
       "      <td>Sim</td>\n",
       "      <td>Sim</td>\n",
       "      <td>Tailandes</td>\n",
       "      <td>0-10</td>\n",
       "      <td>Sim</td>\n",
       "    </tr>\n",
       "    <tr>\n",
       "      <th>8</th>\n",
       "      <td>Nao</td>\n",
       "      <td>Sim</td>\n",
       "      <td>Sim</td>\n",
       "      <td>Nao</td>\n",
       "      <td>Cheio</td>\n",
       "      <td>R</td>\n",
       "      <td>Sim</td>\n",
       "      <td>Nao</td>\n",
       "      <td>Hamburger</td>\n",
       "      <td>&gt;60</td>\n",
       "      <td>Nao</td>\n",
       "    </tr>\n",
       "    <tr>\n",
       "      <th>9</th>\n",
       "      <td>Sim</td>\n",
       "      <td>Sim</td>\n",
       "      <td>Sim</td>\n",
       "      <td>Sim</td>\n",
       "      <td>Cheio</td>\n",
       "      <td>RRR</td>\n",
       "      <td>Nao</td>\n",
       "      <td>Sim</td>\n",
       "      <td>Italiano</td>\n",
       "      <td>10-30</td>\n",
       "      <td>Nao</td>\n",
       "    </tr>\n",
       "    <tr>\n",
       "      <th>10</th>\n",
       "      <td>Nao</td>\n",
       "      <td>Nao</td>\n",
       "      <td>Nao</td>\n",
       "      <td>Nao</td>\n",
       "      <td>Nenhum</td>\n",
       "      <td>R</td>\n",
       "      <td>Nao</td>\n",
       "      <td>Nao</td>\n",
       "      <td>Tailandes</td>\n",
       "      <td>0-10</td>\n",
       "      <td>Nao</td>\n",
       "    </tr>\n",
       "    <tr>\n",
       "      <th>11</th>\n",
       "      <td>Sim</td>\n",
       "      <td>Sim</td>\n",
       "      <td>Sim</td>\n",
       "      <td>Sim</td>\n",
       "      <td>Cheio</td>\n",
       "      <td>R</td>\n",
       "      <td>Nao</td>\n",
       "      <td>Nao</td>\n",
       "      <td>Hamburger</td>\n",
       "      <td>30-60</td>\n",
       "      <td>Sim</td>\n",
       "    </tr>\n",
       "  </tbody>\n",
       "</table>\n",
       "</div>"
      ],
      "text/plain": [
       "   Alternativo  Bar Sex/Sab fome Cliente Preco Chuva  Res       Tipo  Tempo  \\\n",
       "0          Sim  Nao     Nao  Sim  Alguns   RRR   Nao  Sim    Frances   0-10   \n",
       "1          Sim  Nao     Nao  Sim   Cheio     R   Nao  Nao  Tailandes  30-60   \n",
       "2          Nao  Sim     Nao  Nao  Alguns     R   Nao  Nao  Hamburger   0-10   \n",
       "3          Sim  Nao     Sim  Sim   Cheio     R   Sim  Nao  Tailandes  10-30   \n",
       "4          Sim  Nao     Sim  Nao   Cheio   RRR   Nao  Sim    Frances    >60   \n",
       "5          Nao  Sim     Nao  Sim  Alguns    RR   Sim  Sim   Italiano   0-10   \n",
       "6          Nao  Sim     Nao  Nao  Nenhum     R   Sim  Nao  Hamburger   0-10   \n",
       "7          Nao  Nao     Nao  Sim  Alguns    RR   Sim  Sim  Tailandes   0-10   \n",
       "8          Nao  Sim     Sim  Nao   Cheio     R   Sim  Nao  Hamburger    >60   \n",
       "9          Sim  Sim     Sim  Sim   Cheio   RRR   Nao  Sim   Italiano  10-30   \n",
       "10         Nao  Nao     Nao  Nao  Nenhum     R   Nao  Nao  Tailandes   0-10   \n",
       "11         Sim  Sim     Sim  Sim   Cheio     R   Nao  Nao  Hamburger  30-60   \n",
       "\n",
       "   Conclusao  \n",
       "0        Sim  \n",
       "1        Nao  \n",
       "2        Sim  \n",
       "3        Sim  \n",
       "4        Nao  \n",
       "5        Sim  \n",
       "6        Nao  \n",
       "7        Sim  \n",
       "8        Nao  \n",
       "9        Nao  \n",
       "10       Nao  \n",
       "11       Sim  "
      ]
     },
     "execution_count": 27,
     "metadata": {},
     "output_type": "execute_result"
    }
   ],
   "source": [
    "base"
   ]
  },
  {
   "cell_type": "code",
   "execution_count": 28,
   "metadata": {
    "colab": {
     "base_uri": "https://localhost:8080/",
     "height": 143
    },
    "id": "WtFD-X3YVI4B",
    "outputId": "686b3695-2e57-42da-fa17-97e1b7fea2f2"
   },
   "outputs": [
    {
     "data": {
      "text/html": [
       "<div>\n",
       "<style scoped>\n",
       "    .dataframe tbody tr th:only-of-type {\n",
       "        vertical-align: middle;\n",
       "    }\n",
       "\n",
       "    .dataframe tbody tr th {\n",
       "        vertical-align: top;\n",
       "    }\n",
       "\n",
       "    .dataframe thead th {\n",
       "        text-align: right;\n",
       "    }\n",
       "</style>\n",
       "<table border=\"1\" class=\"dataframe\">\n",
       "  <thead>\n",
       "    <tr style=\"text-align: right;\">\n",
       "      <th></th>\n",
       "      <th>Alternativo</th>\n",
       "      <th>Bar</th>\n",
       "      <th>Sex/Sab</th>\n",
       "      <th>fome</th>\n",
       "      <th>Cliente</th>\n",
       "      <th>Preco</th>\n",
       "      <th>Chuva</th>\n",
       "      <th>Res</th>\n",
       "      <th>Tipo</th>\n",
       "      <th>Tempo</th>\n",
       "      <th>Conclusao</th>\n",
       "    </tr>\n",
       "  </thead>\n",
       "  <tbody>\n",
       "    <tr>\n",
       "      <th>0</th>\n",
       "      <td>Sim</td>\n",
       "      <td>Nao</td>\n",
       "      <td>Nao</td>\n",
       "      <td>Sim</td>\n",
       "      <td>Alguns</td>\n",
       "      <td>RRR</td>\n",
       "      <td>Nao</td>\n",
       "      <td>Sim</td>\n",
       "      <td>Frances</td>\n",
       "      <td>0-10</td>\n",
       "      <td>Sim</td>\n",
       "    </tr>\n",
       "    <tr>\n",
       "      <th>1</th>\n",
       "      <td>Sim</td>\n",
       "      <td>Nao</td>\n",
       "      <td>Nao</td>\n",
       "      <td>Sim</td>\n",
       "      <td>Cheio</td>\n",
       "      <td>R</td>\n",
       "      <td>Nao</td>\n",
       "      <td>Nao</td>\n",
       "      <td>Tailandes</td>\n",
       "      <td>30-60</td>\n",
       "      <td>Nao</td>\n",
       "    </tr>\n",
       "    <tr>\n",
       "      <th>2</th>\n",
       "      <td>Nao</td>\n",
       "      <td>Sim</td>\n",
       "      <td>Nao</td>\n",
       "      <td>Nao</td>\n",
       "      <td>Alguns</td>\n",
       "      <td>R</td>\n",
       "      <td>Nao</td>\n",
       "      <td>Nao</td>\n",
       "      <td>Hamburger</td>\n",
       "      <td>0-10</td>\n",
       "      <td>Sim</td>\n",
       "    </tr>\n",
       "  </tbody>\n",
       "</table>\n",
       "</div>"
      ],
      "text/plain": [
       "  Alternativo  Bar Sex/Sab fome Cliente Preco Chuva  Res       Tipo  Tempo  \\\n",
       "0         Sim  Nao     Nao  Sim  Alguns   RRR   Nao  Sim    Frances   0-10   \n",
       "1         Sim  Nao     Nao  Sim   Cheio     R   Nao  Nao  Tailandes  30-60   \n",
       "2         Nao  Sim     Nao  Nao  Alguns     R   Nao  Nao  Hamburger   0-10   \n",
       "\n",
       "  Conclusao  \n",
       "0       Sim  \n",
       "1       Nao  \n",
       "2       Sim  "
      ]
     },
     "execution_count": 28,
     "metadata": {},
     "output_type": "execute_result"
    }
   ],
   "source": [
    "base.head(3)"
   ]
  },
  {
   "cell_type": "code",
   "execution_count": 29,
   "metadata": {
    "colab": {
     "base_uri": "https://localhost:8080/",
     "height": 132
    },
    "id": "0VKCjaDIVTMc",
    "outputId": "236693f9-1cc6-4c80-ca8f-f97010358f71"
   },
   "outputs": [
    {
     "data": {
      "text/html": [
       "<div>\n",
       "<style scoped>\n",
       "    .dataframe tbody tr th:only-of-type {\n",
       "        vertical-align: middle;\n",
       "    }\n",
       "\n",
       "    .dataframe tbody tr th {\n",
       "        vertical-align: top;\n",
       "    }\n",
       "\n",
       "    .dataframe thead th {\n",
       "        text-align: right;\n",
       "    }\n",
       "</style>\n",
       "<table border=\"1\" class=\"dataframe\">\n",
       "  <thead>\n",
       "    <tr style=\"text-align: right;\">\n",
       "      <th></th>\n",
       "      <th>Alternativo</th>\n",
       "      <th>Bar</th>\n",
       "      <th>Sex/Sab</th>\n",
       "      <th>fome</th>\n",
       "      <th>Cliente</th>\n",
       "      <th>Preco</th>\n",
       "      <th>Chuva</th>\n",
       "      <th>Res</th>\n",
       "      <th>Tipo</th>\n",
       "      <th>Tempo</th>\n",
       "      <th>Conclusao</th>\n",
       "    </tr>\n",
       "  </thead>\n",
       "  <tbody>\n",
       "    <tr>\n",
       "      <th>10</th>\n",
       "      <td>Nao</td>\n",
       "      <td>Nao</td>\n",
       "      <td>Nao</td>\n",
       "      <td>Nao</td>\n",
       "      <td>Nenhum</td>\n",
       "      <td>R</td>\n",
       "      <td>Nao</td>\n",
       "      <td>Nao</td>\n",
       "      <td>Tailandes</td>\n",
       "      <td>0-10</td>\n",
       "      <td>Nao</td>\n",
       "    </tr>\n",
       "    <tr>\n",
       "      <th>11</th>\n",
       "      <td>Sim</td>\n",
       "      <td>Sim</td>\n",
       "      <td>Sim</td>\n",
       "      <td>Sim</td>\n",
       "      <td>Cheio</td>\n",
       "      <td>R</td>\n",
       "      <td>Nao</td>\n",
       "      <td>Nao</td>\n",
       "      <td>Hamburger</td>\n",
       "      <td>30-60</td>\n",
       "      <td>Sim</td>\n",
       "    </tr>\n",
       "  </tbody>\n",
       "</table>\n",
       "</div>"
      ],
      "text/plain": [
       "   Alternativo  Bar Sex/Sab fome Cliente Preco Chuva  Res       Tipo  Tempo  \\\n",
       "10         Nao  Nao     Nao  Nao  Nenhum     R   Nao  Nao  Tailandes   0-10   \n",
       "11         Sim  Sim     Sim  Sim   Cheio     R   Nao  Nao  Hamburger  30-60   \n",
       "\n",
       "   Conclusao  \n",
       "10       Nao  \n",
       "11       Sim  "
      ]
     },
     "execution_count": 29,
     "metadata": {},
     "output_type": "execute_result"
    }
   ],
   "source": [
    "base.tail(2)"
   ]
  },
  {
   "cell_type": "markdown",
   "metadata": {
    "id": "nnxpN2abg5eN"
   },
   "source": [
    "**Contando quantidade de instâncias**\n"
   ]
  },
  {
   "cell_type": "code",
   "execution_count": 30,
   "metadata": {
    "colab": {
     "base_uri": "https://localhost:8080/"
    },
    "id": "xgR2Os49WO3d",
    "outputId": "e59b8835-8123-449b-9b9d-bb74c32cc808"
   },
   "outputs": [
    {
     "data": {
      "text/plain": [
       "(array(['Nao', 'Sim'], dtype=object), array([6, 6], dtype=int64))"
      ]
     },
     "execution_count": 30,
     "metadata": {},
     "output_type": "execute_result"
    }
   ],
   "source": [
    "np.unique(base['Conclusao'], return_counts=True)"
   ]
  },
  {
   "cell_type": "code",
   "execution_count": 31,
   "metadata": {
    "colab": {
     "base_uri": "https://localhost:8080/",
     "height": 503
    },
    "id": "n-DOy3oXXG4N",
    "outputId": "0c8ae060-129a-4194-a7a6-ec69abec8166"
   },
   "outputs": [
    {
     "data": {
      "image/png": "[encoded data removed]",
      "text/plain": [
       "<Figure size 640x480 with 1 Axes>"
      ]
     },
     "metadata": {},
     "output_type": "display_data"
    }
   ],
   "source": [
    "sns.countplot(x = base['Conclusao']);"
   ]
  },
  {
   "cell_type": "markdown",
   "metadata": {
    "id": "MYJpg6Q8hH8i"
   },
   "source": [
    "**Separando os atributos de entrada e de classe**"
   ]
  },
  {
   "cell_type": "code",
   "execution_count": 32,
   "metadata": {
    "id": "9EPdNWJIXPm2"
   },
   "outputs": [],
   "source": [
    "X_prev = base.iloc[:, 0:10].values"
   ]
  },
  {
   "cell_type": "code",
   "execution_count": 33,
   "metadata": {
    "colab": {
     "base_uri": "https://localhost:8080/"
    },
    "id": "zYITR2Kv6X1F",
    "outputId": "1a521100-4964-48bb-f2b3-b4147c69f355"
   },
   "outputs": [
    {
     "data": {
      "text/plain": [
       "array([['Sim', 'Nao', 'Nao', 'Sim', 'Alguns', 'RRR', 'Nao', 'Sim',\n",
       "        'Frances', '0-10'],\n",
       "       ['Sim', 'Nao', 'Nao', 'Sim', 'Cheio', 'R', 'Nao', 'Nao',\n",
       "        'Tailandes', '30-60'],\n",
       "       ['Nao', 'Sim', 'Nao', 'Nao', 'Alguns', 'R', 'Nao', 'Nao',\n",
       "        'Hamburger', '0-10'],\n",
       "       ['Sim', 'Nao', 'Sim', 'Sim', 'Cheio', 'R', 'Sim', 'Nao',\n",
       "        'Tailandes', '10-30'],\n",
       "       ['Sim', 'Nao', 'Sim', 'Nao', 'Cheio', 'RRR', 'Nao', 'Sim',\n",
       "        'Frances', '>60'],\n",
       "       ['Nao', 'Sim', 'Nao', 'Sim', 'Alguns', 'RR', 'Sim', 'Sim',\n",
       "        'Italiano', '0-10'],\n",
       "       ['Nao', 'Sim', 'Nao', 'Nao', 'Nenhum', 'R', 'Sim', 'Nao',\n",
       "        'Hamburger', '0-10'],\n",
       "       ['Nao', 'Nao', 'Nao', 'Sim', 'Alguns', 'RR', 'Sim', 'Sim',\n",
       "        'Tailandes', '0-10'],\n",
       "       ['Nao', 'Sim', 'Sim', 'Nao', 'Cheio', 'R', 'Sim', 'Nao',\n",
       "        'Hamburger', '>60'],\n",
       "       ['Sim', 'Sim', 'Sim', 'Sim', 'Cheio', 'RRR', 'Nao', 'Sim',\n",
       "        'Italiano', '10-30'],\n",
       "       ['Nao', 'Nao', 'Nao', 'Nao', 'Nenhum', 'R', 'Nao', 'Nao',\n",
       "        'Tailandes', '0-10'],\n",
       "       ['Sim', 'Sim', 'Sim', 'Sim', 'Cheio', 'R', 'Nao', 'Nao',\n",
       "        'Hamburger', '30-60']], dtype=object)"
      ]
     },
     "execution_count": 33,
     "metadata": {},
     "output_type": "execute_result"
    }
   ],
   "source": [
    "X_prev"
   ]
  },
  {
   "cell_type": "code",
   "execution_count": 34,
   "metadata": {
    "id": "35DXGBG46LQ1"
   },
   "outputs": [],
   "source": [
    "X_prev_label = base.iloc[:, 0:10]"
   ]
  },
  {
   "cell_type": "code",
   "execution_count": 35,
   "metadata": {
    "colab": {
     "base_uri": "https://localhost:8080/",
     "height": 425
    },
    "id": "IOfUln-yf13F",
    "outputId": "d699d6d0-8638-458d-e412-ffcf40b30b41"
   },
   "outputs": [
    {
     "data": {
      "text/html": [
       "<div>\n",
       "<style scoped>\n",
       "    .dataframe tbody tr th:only-of-type {\n",
       "        vertical-align: middle;\n",
       "    }\n",
       "\n",
       "    .dataframe tbody tr th {\n",
       "        vertical-align: top;\n",
       "    }\n",
       "\n",
       "    .dataframe thead th {\n",
       "        text-align: right;\n",
       "    }\n",
       "</style>\n",
       "<table border=\"1\" class=\"dataframe\">\n",
       "  <thead>\n",
       "    <tr style=\"text-align: right;\">\n",
       "      <th></th>\n",
       "      <th>Alternativo</th>\n",
       "      <th>Bar</th>\n",
       "      <th>Sex/Sab</th>\n",
       "      <th>fome</th>\n",
       "      <th>Cliente</th>\n",
       "      <th>Preco</th>\n",
       "      <th>Chuva</th>\n",
       "      <th>Res</th>\n",
       "      <th>Tipo</th>\n",
       "      <th>Tempo</th>\n",
       "    </tr>\n",
       "  </thead>\n",
       "  <tbody>\n",
       "    <tr>\n",
       "      <th>0</th>\n",
       "      <td>Sim</td>\n",
       "      <td>Nao</td>\n",
       "      <td>Nao</td>\n",
       "      <td>Sim</td>\n",
       "      <td>Alguns</td>\n",
       "      <td>RRR</td>\n",
       "      <td>Nao</td>\n",
       "      <td>Sim</td>\n",
       "      <td>Frances</td>\n",
       "      <td>0-10</td>\n",
       "    </tr>\n",
       "    <tr>\n",
       "      <th>1</th>\n",
       "      <td>Sim</td>\n",
       "      <td>Nao</td>\n",
       "      <td>Nao</td>\n",
       "      <td>Sim</td>\n",
       "      <td>Cheio</td>\n",
       "      <td>R</td>\n",
       "      <td>Nao</td>\n",
       "      <td>Nao</td>\n",
       "      <td>Tailandes</td>\n",
       "      <td>30-60</td>\n",
       "    </tr>\n",
       "    <tr>\n",
       "      <th>2</th>\n",
       "      <td>Nao</td>\n",
       "      <td>Sim</td>\n",
       "      <td>Nao</td>\n",
       "      <td>Nao</td>\n",
       "      <td>Alguns</td>\n",
       "      <td>R</td>\n",
       "      <td>Nao</td>\n",
       "      <td>Nao</td>\n",
       "      <td>Hamburger</td>\n",
       "      <td>0-10</td>\n",
       "    </tr>\n",
       "    <tr>\n",
       "      <th>3</th>\n",
       "      <td>Sim</td>\n",
       "      <td>Nao</td>\n",
       "      <td>Sim</td>\n",
       "      <td>Sim</td>\n",
       "      <td>Cheio</td>\n",
       "      <td>R</td>\n",
       "      <td>Sim</td>\n",
       "      <td>Nao</td>\n",
       "      <td>Tailandes</td>\n",
       "      <td>10-30</td>\n",
       "    </tr>\n",
       "    <tr>\n",
       "      <th>4</th>\n",
       "      <td>Sim</td>\n",
       "      <td>Nao</td>\n",
       "      <td>Sim</td>\n",
       "      <td>Nao</td>\n",
       "      <td>Cheio</td>\n",
       "      <td>RRR</td>\n",
       "      <td>Nao</td>\n",
       "      <td>Sim</td>\n",
       "      <td>Frances</td>\n",
       "      <td>&gt;60</td>\n",
       "    </tr>\n",
       "    <tr>\n",
       "      <th>5</th>\n",
       "      <td>Nao</td>\n",
       "      <td>Sim</td>\n",
       "      <td>Nao</td>\n",
       "      <td>Sim</td>\n",
       "      <td>Alguns</td>\n",
       "      <td>RR</td>\n",
       "      <td>Sim</td>\n",
       "      <td>Sim</td>\n",
       "      <td>Italiano</td>\n",
       "      <td>0-10</td>\n",
       "    </tr>\n",
       "    <tr>\n",
       "      <th>6</th>\n",
       "      <td>Nao</td>\n",
       "      <td>Sim</td>\n",
       "      <td>Nao</td>\n",
       "      <td>Nao</td>\n",
       "      <td>Nenhum</td>\n",
       "      <td>R</td>\n",
       "      <td>Sim</td>\n",
       "      <td>Nao</td>\n",
       "      <td>Hamburger</td>\n",
       "      <td>0-10</td>\n",
       "    </tr>\n",
       "    <tr>\n",
       "      <th>7</th>\n",
       "      <td>Nao</td>\n",
       "      <td>Nao</td>\n",
       "      <td>Nao</td>\n",
       "      <td>Sim</td>\n",
       "      <td>Alguns</td>\n",
       "      <td>RR</td>\n",
       "      <td>Sim</td>\n",
       "      <td>Sim</td>\n",
       "      <td>Tailandes</td>\n",
       "      <td>0-10</td>\n",
       "    </tr>\n",
       "    <tr>\n",
       "      <th>8</th>\n",
       "      <td>Nao</td>\n",
       "      <td>Sim</td>\n",
       "      <td>Sim</td>\n",
       "      <td>Nao</td>\n",
       "      <td>Cheio</td>\n",
       "      <td>R</td>\n",
       "      <td>Sim</td>\n",
       "      <td>Nao</td>\n",
       "      <td>Hamburger</td>\n",
       "      <td>&gt;60</td>\n",
       "    </tr>\n",
       "    <tr>\n",
       "      <th>9</th>\n",
       "      <td>Sim</td>\n",
       "      <td>Sim</td>\n",
       "      <td>Sim</td>\n",
       "      <td>Sim</td>\n",
       "      <td>Cheio</td>\n",
       "      <td>RRR</td>\n",
       "      <td>Nao</td>\n",
       "      <td>Sim</td>\n",
       "      <td>Italiano</td>\n",
       "      <td>10-30</td>\n",
       "    </tr>\n",
       "    <tr>\n",
       "      <th>10</th>\n",
       "      <td>Nao</td>\n",
       "      <td>Nao</td>\n",
       "      <td>Nao</td>\n",
       "      <td>Nao</td>\n",
       "      <td>Nenhum</td>\n",
       "      <td>R</td>\n",
       "      <td>Nao</td>\n",
       "      <td>Nao</td>\n",
       "      <td>Tailandes</td>\n",
       "      <td>0-10</td>\n",
       "    </tr>\n",
       "    <tr>\n",
       "      <th>11</th>\n",
       "      <td>Sim</td>\n",
       "      <td>Sim</td>\n",
       "      <td>Sim</td>\n",
       "      <td>Sim</td>\n",
       "      <td>Cheio</td>\n",
       "      <td>R</td>\n",
       "      <td>Nao</td>\n",
       "      <td>Nao</td>\n",
       "      <td>Hamburger</td>\n",
       "      <td>30-60</td>\n",
       "    </tr>\n",
       "  </tbody>\n",
       "</table>\n",
       "</div>"
      ],
      "text/plain": [
       "   Alternativo  Bar Sex/Sab fome Cliente Preco Chuva  Res       Tipo  Tempo\n",
       "0          Sim  Nao     Nao  Sim  Alguns   RRR   Nao  Sim    Frances   0-10\n",
       "1          Sim  Nao     Nao  Sim   Cheio     R   Nao  Nao  Tailandes  30-60\n",
       "2          Nao  Sim     Nao  Nao  Alguns     R   Nao  Nao  Hamburger   0-10\n",
       "3          Sim  Nao     Sim  Sim   Cheio     R   Sim  Nao  Tailandes  10-30\n",
       "4          Sim  Nao     Sim  Nao   Cheio   RRR   Nao  Sim    Frances    >60\n",
       "5          Nao  Sim     Nao  Sim  Alguns    RR   Sim  Sim   Italiano   0-10\n",
       "6          Nao  Sim     Nao  Nao  Nenhum     R   Sim  Nao  Hamburger   0-10\n",
       "7          Nao  Nao     Nao  Sim  Alguns    RR   Sim  Sim  Tailandes   0-10\n",
       "8          Nao  Sim     Sim  Nao   Cheio     R   Sim  Nao  Hamburger    >60\n",
       "9          Sim  Sim     Sim  Sim   Cheio   RRR   Nao  Sim   Italiano  10-30\n",
       "10         Nao  Nao     Nao  Nao  Nenhum     R   Nao  Nao  Tailandes   0-10\n",
       "11         Sim  Sim     Sim  Sim   Cheio     R   Nao  Nao  Hamburger  30-60"
      ]
     },
     "execution_count": 35,
     "metadata": {},
     "output_type": "execute_result"
    }
   ],
   "source": [
    "X_prev_label"
   ]
  },
  {
   "cell_type": "code",
   "execution_count": 36,
   "metadata": {
    "colab": {
     "base_uri": "https://localhost:8080/"
    },
    "id": "tauFS_600OjB",
    "outputId": "277df5fb-e3d3-4e98-c3a3-c1588d1daa62"
   },
   "outputs": [
    {
     "data": {
      "text/plain": [
       "array(['RRR', 'R', 'R', 'R', 'RRR', 'RR', 'R', 'RR', 'R', 'RRR', 'R', 'R'],\n",
       "      dtype=object)"
      ]
     },
     "execution_count": 36,
     "metadata": {},
     "output_type": "execute_result"
    }
   ],
   "source": [
    "X_prev[:,5]"
   ]
  },
  {
   "cell_type": "code",
   "execution_count": 37,
   "metadata": {
    "id": "kLLl-H1ygy7y"
   },
   "outputs": [],
   "source": [
    "y_classe = base.iloc[:, 10].values"
   ]
  },
  {
   "cell_type": "code",
   "execution_count": 38,
   "metadata": {
    "colab": {
     "base_uri": "https://localhost:8080/"
    },
    "id": "XFnwVWk2hYzj",
    "outputId": "faf15bb0-795b-45a0-d9bd-7f7aa5e603fe"
   },
   "outputs": [
    {
     "data": {
      "text/plain": [
       "array(['Sim', 'Nao', 'Sim', 'Sim', 'Nao', 'Sim', 'Nao', 'Sim', 'Nao',\n",
       "       'Nao', 'Nao', 'Sim'], dtype=object)"
      ]
     },
     "execution_count": 38,
     "metadata": {},
     "output_type": "execute_result"
    }
   ],
   "source": [
    "y_classe"
   ]
  },
  {
   "cell_type": "markdown",
   "metadata": {
    "id": "A4y4I3XlXRZT"
   },
   "source": [
    "**Podemos fazer esta mesma divisão (separar as variáveis de entrada e saída) usando os comandos abaixo**"
   ]
  },
  {
   "cell_type": "code",
   "execution_count": 39,
   "metadata": {
    "id": "sXkdmFSnXQY0"
   },
   "outputs": [],
   "source": [
    "#X = base.copy()\n",
    "#y = X.pop('Conclusao')"
   ]
  },
  {
   "cell_type": "markdown",
   "metadata": {
    "id": "xeaEnJuOij1V"
   },
   "source": [
    "**Tratamento de dados categóricos**"
   ]
  },
  {
   "cell_type": "markdown",
   "metadata": {
    "id": "3lW1I_-TiwUi"
   },
   "source": [
    "> *LabelEncoder - Vamos tratar os dados categóricos colocando 1, 2, 3 e etc**\n",
    "\n"
   ]
  },
  {
   "cell_type": "code",
   "execution_count": 40,
   "metadata": {
    "id": "bJftEzSbiorG"
   },
   "outputs": [],
   "source": [
    "from sklearn.preprocessing import LabelEncoder"
   ]
  },
  {
   "cell_type": "code",
   "execution_count": 41,
   "metadata": {
    "id": "zQDx5oLrjMCZ"
   },
   "outputs": [],
   "source": [
    "label_encoder = LabelEncoder()"
   ]
  },
  {
   "cell_type": "code",
   "execution_count": 42,
   "metadata": {
    "colab": {
     "base_uri": "https://localhost:8080/"
    },
    "id": "OFz5uXgNjZd7",
    "outputId": "a9a5756d-2e3c-40c5-d13b-ef9e15a33de8"
   },
   "outputs": [
    {
     "data": {
      "text/plain": [
       "array(['Sim', 'Sim', 'Nao', 'Sim', 'Sim', 'Nao', 'Nao', 'Nao', 'Nao',\n",
       "       'Sim', 'Nao', 'Sim'], dtype=object)"
      ]
     },
     "execution_count": 42,
     "metadata": {},
     "output_type": "execute_result"
    }
   ],
   "source": [
    "X_prev[:,0]"
   ]
  },
  {
   "cell_type": "code",
   "execution_count": 43,
   "metadata": {
    "colab": {
     "base_uri": "https://localhost:8080/"
    },
    "id": "P11D5o6rYG8H",
    "outputId": "7f204826-74e6-40d6-aac5-ef5ed449d080"
   },
   "outputs": [
    {
     "data": {
      "text/plain": [
       "array([['Sim', 'Nao', 'Nao', 'Sim', 'Alguns', 'RRR', 'Nao', 'Sim',\n",
       "        'Frances', '0-10'],\n",
       "       ['Sim', 'Nao', 'Nao', 'Sim', 'Cheio', 'R', 'Nao', 'Nao',\n",
       "        'Tailandes', '30-60'],\n",
       "       ['Nao', 'Sim', 'Nao', 'Nao', 'Alguns', 'R', 'Nao', 'Nao',\n",
       "        'Hamburger', '0-10'],\n",
       "       ['Sim', 'Nao', 'Sim', 'Sim', 'Cheio', 'R', 'Sim', 'Nao',\n",
       "        'Tailandes', '10-30'],\n",
       "       ['Sim', 'Nao', 'Sim', 'Nao', 'Cheio', 'RRR', 'Nao', 'Sim',\n",
       "        'Frances', '>60'],\n",
       "       ['Nao', 'Sim', 'Nao', 'Sim', 'Alguns', 'RR', 'Sim', 'Sim',\n",
       "        'Italiano', '0-10'],\n",
       "       ['Nao', 'Sim', 'Nao', 'Nao', 'Nenhum', 'R', 'Sim', 'Nao',\n",
       "        'Hamburger', '0-10'],\n",
       "       ['Nao', 'Nao', 'Nao', 'Sim', 'Alguns', 'RR', 'Sim', 'Sim',\n",
       "        'Tailandes', '0-10'],\n",
       "       ['Nao', 'Sim', 'Sim', 'Nao', 'Cheio', 'R', 'Sim', 'Nao',\n",
       "        'Hamburger', '>60'],\n",
       "       ['Sim', 'Sim', 'Sim', 'Sim', 'Cheio', 'RRR', 'Nao', 'Sim',\n",
       "        'Italiano', '10-30'],\n",
       "       ['Nao', 'Nao', 'Nao', 'Nao', 'Nenhum', 'R', 'Nao', 'Nao',\n",
       "        'Tailandes', '0-10'],\n",
       "       ['Sim', 'Sim', 'Sim', 'Sim', 'Cheio', 'R', 'Nao', 'Nao',\n",
       "        'Hamburger', '30-60']], dtype=object)"
      ]
     },
     "execution_count": 43,
     "metadata": {},
     "output_type": "execute_result"
    }
   ],
   "source": [
    "X_prev"
   ]
  },
  {
   "cell_type": "code",
   "execution_count": 44,
   "metadata": {
    "id": "hEgGLwa_nDmk"
   },
   "outputs": [],
   "source": [
    "label_encoder_Alternativo = LabelEncoder()\n",
    "label_encoder_Bar = LabelEncoder()\n",
    "label_encoder_SexSab = LabelEncoder()\n",
    "label_encoder_fome = LabelEncoder()\n",
    "label_encoder_chuva = LabelEncoder()\n",
    "label_encoder_Res = LabelEncoder()"
   ]
  },
  {
   "cell_type": "code",
   "execution_count": 45,
   "metadata": {
    "id": "CPHvoFGynldw"
   },
   "outputs": [],
   "source": [
    "X_prev[:,0] = label_encoder_Alternativo.fit_transform(X_prev[:,0])\n",
    "X_prev[:,1] = label_encoder_Bar.fit_transform(X_prev[:,1])\n",
    "X_prev[:,2] = label_encoder_SexSab.fit_transform(X_prev[:,2])\n",
    "X_prev[:,3] = label_encoder_fome.fit_transform(X_prev[:,3])\n",
    "X_prev[:,4] = label_encoder_chuva.fit_transform(X_prev[:,4])\n",
    "X_prev[:,5] = label_encoder_Res.fit_transform(X_prev[:,5])\n",
    "X_prev[:,6] = label_encoder_Alternativo.fit_transform(X_prev[:,6])\n",
    "X_prev[:,7] = label_encoder_Bar.fit_transform(X_prev[:,7])\n",
    "X_prev[:,9] = label_encoder_SexSab.fit_transform(X_prev[:,9])"
   ]
  },
  {
   "cell_type": "code",
   "execution_count": 46,
   "metadata": {
    "colab": {
     "base_uri": "https://localhost:8080/"
    },
    "id": "phQP4ayIo7JC",
    "outputId": "0624a8a4-a2f3-4cd4-eebc-35c7e00e0ac1"
   },
   "outputs": [
    {
     "data": {
      "text/plain": [
       "array([[1, 0, 0, 1, 0, 2, 0, 1, 'Frances', 0],\n",
       "       [1, 0, 0, 1, 1, 0, 0, 0, 'Tailandes', 2],\n",
       "       [0, 1, 0, 0, 0, 0, 0, 0, 'Hamburger', 0],\n",
       "       [1, 0, 1, 1, 1, 0, 1, 0, 'Tailandes', 1],\n",
       "       [1, 0, 1, 0, 1, 2, 0, 1, 'Frances', 3],\n",
       "       [0, 1, 0, 1, 0, 1, 1, 1, 'Italiano', 0],\n",
       "       [0, 1, 0, 0, 2, 0, 1, 0, 'Hamburger', 0],\n",
       "       [0, 0, 0, 1, 0, 1, 1, 1, 'Tailandes', 0],\n",
       "       [0, 1, 1, 0, 1, 0, 1, 0, 'Hamburger', 3],\n",
       "       [1, 1, 1, 1, 1, 2, 0, 1, 'Italiano', 1],\n",
       "       [0, 0, 0, 0, 2, 0, 0, 0, 'Tailandes', 0],\n",
       "       [1, 1, 1, 1, 1, 0, 0, 0, 'Hamburger', 2]], dtype=object)"
      ]
     },
     "execution_count": 46,
     "metadata": {},
     "output_type": "execute_result"
    }
   ],
   "source": [
    "X_prev"
   ]
  },
  {
   "cell_type": "markdown",
   "metadata": {
    "id": "CdvWmHBWpNVf"
   },
   "source": [
    "\n",
    "\n",
    "> OneHotEncoder - Agora vamos binarizar atributos não ordinais"
   ]
  },
  {
   "cell_type": "markdown",
   "metadata": {
    "id": "tyfOlRYpuc9b"
   },
   "source": [
    "**Contando quantas opções de resposta tem cada atributo**"
   ]
  },
  {
   "cell_type": "code",
   "execution_count": 47,
   "metadata": {
    "colab": {
     "base_uri": "https://localhost:8080/"
    },
    "id": "aJkbkyXquPr1",
    "outputId": "6e134980-fb08-4598-85d7-014e9af77d9a"
   },
   "outputs": [
    {
     "data": {
      "text/plain": [
       "3"
      ]
     },
     "execution_count": 47,
     "metadata": {},
     "output_type": "execute_result"
    }
   ],
   "source": [
    "len(np.unique(base['Cliente']))"
   ]
  },
  {
   "cell_type": "code",
   "execution_count": 48,
   "metadata": {
    "id": "abl6WdNRurkE"
   },
   "outputs": [],
   "source": [
    "from sklearn.preprocessing import OneHotEncoder\n",
    "from sklearn.compose import ColumnTransformer"
   ]
  },
  {
   "cell_type": "code",
   "execution_count": 49,
   "metadata": {
    "colab": {
     "base_uri": "https://localhost:8080/"
    },
    "id": "0motJ0N9yd8W",
    "outputId": "b95e1b73-526f-4929-ab5c-dd42c4f193fe"
   },
   "outputs": [
    {
     "data": {
      "text/plain": [
       "array([[1, 0, 0, 1, 0, 2, 0, 1, 'Frances', 0],\n",
       "       [1, 0, 0, 1, 1, 0, 0, 0, 'Tailandes', 2],\n",
       "       [0, 1, 0, 0, 0, 0, 0, 0, 'Hamburger', 0],\n",
       "       [1, 0, 1, 1, 1, 0, 1, 0, 'Tailandes', 1],\n",
       "       [1, 0, 1, 0, 1, 2, 0, 1, 'Frances', 3],\n",
       "       [0, 1, 0, 1, 0, 1, 1, 1, 'Italiano', 0],\n",
       "       [0, 1, 0, 0, 2, 0, 1, 0, 'Hamburger', 0],\n",
       "       [0, 0, 0, 1, 0, 1, 1, 1, 'Tailandes', 0],\n",
       "       [0, 1, 1, 0, 1, 0, 1, 0, 'Hamburger', 3],\n",
       "       [1, 1, 1, 1, 1, 2, 0, 1, 'Italiano', 1],\n",
       "       [0, 0, 0, 0, 2, 0, 0, 0, 'Tailandes', 0],\n",
       "       [1, 1, 1, 1, 1, 0, 0, 0, 'Hamburger', 2]], dtype=object)"
      ]
     },
     "execution_count": 49,
     "metadata": {},
     "output_type": "execute_result"
    }
   ],
   "source": [
    "X_prev"
   ]
  },
  {
   "cell_type": "code",
   "execution_count": 50,
   "metadata": {
    "colab": {
     "base_uri": "https://localhost:8080/"
    },
    "id": "4n4ZSB9bRN4j",
    "outputId": "abda276c-7378-452f-90ed-6f8287421c64"
   },
   "outputs": [
    {
     "data": {
      "text/plain": [
       "array([[1, 0, 0, 1, 0, 2, 0, 1, 'Frances'],\n",
       "       [1, 0, 0, 1, 1, 0, 0, 0, 'Tailandes'],\n",
       "       [0, 1, 0, 0, 0, 0, 0, 0, 'Hamburger'],\n",
       "       [1, 0, 1, 1, 1, 0, 1, 0, 'Tailandes'],\n",
       "       [1, 0, 1, 0, 1, 2, 0, 1, 'Frances'],\n",
       "       [0, 1, 0, 1, 0, 1, 1, 1, 'Italiano'],\n",
       "       [0, 1, 0, 0, 2, 0, 1, 0, 'Hamburger'],\n",
       "       [0, 0, 0, 1, 0, 1, 1, 1, 'Tailandes'],\n",
       "       [0, 1, 1, 0, 1, 0, 1, 0, 'Hamburger'],\n",
       "       [1, 1, 1, 1, 1, 2, 0, 1, 'Italiano'],\n",
       "       [0, 0, 0, 0, 2, 0, 0, 0, 'Tailandes'],\n",
       "       [1, 1, 1, 1, 1, 0, 0, 0, 'Hamburger']], dtype=object)"
      ]
     },
     "execution_count": 50,
     "metadata": {},
     "output_type": "execute_result"
    }
   ],
   "source": [
    "X_prev[:,0:9]"
   ]
  },
  {
   "cell_type": "code",
   "execution_count": 51,
   "metadata": {
    "id": "PKsgBg8CvVjt"
   },
   "outputs": [],
   "source": [
    "onehotencoder_restaurante = ColumnTransformer(transformers=[('OneHot', OneHotEncoder(), [8])], remainder='passthrough')\n"
   ]
  },
  {
   "cell_type": "code",
   "execution_count": 52,
   "metadata": {
    "id": "XxJI5AEAvo0u"
   },
   "outputs": [],
   "source": [
    "X_prev= onehotencoder_restaurante.fit_transform(X_prev)"
   ]
  },
  {
   "cell_type": "code",
   "execution_count": 53,
   "metadata": {
    "colab": {
     "base_uri": "https://localhost:8080/"
    },
    "id": "PpzcL-nixDQy",
    "outputId": "dd051ddc-545c-40d7-f769-bfa18e95c572"
   },
   "outputs": [
    {
     "data": {
      "text/plain": [
       "array([[1.0, 0.0, 0.0, 0.0, 1, 0, 0, 1, 0, 2, 0, 1, 0],\n",
       "       [0.0, 0.0, 0.0, 1.0, 1, 0, 0, 1, 1, 0, 0, 0, 2],\n",
       "       [0.0, 1.0, 0.0, 0.0, 0, 1, 0, 0, 0, 0, 0, 0, 0],\n",
       "       [0.0, 0.0, 0.0, 1.0, 1, 0, 1, 1, 1, 0, 1, 0, 1],\n",
       "       [1.0, 0.0, 0.0, 0.0, 1, 0, 1, 0, 1, 2, 0, 1, 3],\n",
       "       [0.0, 0.0, 1.0, 0.0, 0, 1, 0, 1, 0, 1, 1, 1, 0],\n",
       "       [0.0, 1.0, 0.0, 0.0, 0, 1, 0, 0, 2, 0, 1, 0, 0],\n",
       "       [0.0, 0.0, 0.0, 1.0, 0, 0, 0, 1, 0, 1, 1, 1, 0],\n",
       "       [0.0, 1.0, 0.0, 0.0, 0, 1, 1, 0, 1, 0, 1, 0, 3],\n",
       "       [0.0, 0.0, 1.0, 0.0, 1, 1, 1, 1, 1, 2, 0, 1, 1],\n",
       "       [0.0, 0.0, 0.0, 1.0, 0, 0, 0, 0, 2, 0, 0, 0, 0],\n",
       "       [0.0, 1.0, 0.0, 0.0, 1, 1, 1, 1, 1, 0, 0, 0, 2]], dtype=object)"
      ]
     },
     "execution_count": 53,
     "metadata": {},
     "output_type": "execute_result"
    }
   ],
   "source": [
    "X_prev"
   ]
  },
  {
   "cell_type": "code",
   "execution_count": 54,
   "metadata": {
    "colab": {
     "base_uri": "https://localhost:8080/"
    },
    "id": "6YoPu2Vt8mMY",
    "outputId": "65e1fc30-5240-42d2-a61a-858d0e8d9337"
   },
   "outputs": [
    {
     "data": {
      "text/plain": [
       "(12, 13)"
      ]
     },
     "execution_count": 54,
     "metadata": {},
     "output_type": "execute_result"
    }
   ],
   "source": [
    "X_prev.shape"
   ]
  },
  {
   "cell_type": "markdown",
   "metadata": {
    "id": "e2DfYD9BZpUV"
   },
   "source": [
    "**Esta mesma transformação OneHotEncoder pode ser feita com o comando abaixo**"
   ]
  },
  {
   "cell_type": "code",
   "execution_count": 55,
   "metadata": {
    "id": "BihvMTn8ZoHp"
   },
   "outputs": [],
   "source": [
    "#base = pd.get_dummies(X_prev_label)\n",
    "#base.head()"
   ]
  },
  {
   "cell_type": "markdown",
   "metadata": {
    "id": "9dxbazZBDX6H"
   },
   "source": [
    "**Método de amostragem Holdout**"
   ]
  },
  {
   "cell_type": "code",
   "execution_count": 56,
   "metadata": {
    "id": "_qGk4N4CK7LQ"
   },
   "outputs": [],
   "source": [
    "from sklearn.model_selection import train_test_split"
   ]
  },
  {
   "cell_type": "code",
   "execution_count": 57,
   "metadata": {
    "colab": {
     "base_uri": "https://localhost:8080/"
    },
    "id": "iSw7DIn3GuYn",
    "outputId": "b7335edd-9e53-40ec-fb9f-f1b9faa7e4a7"
   },
   "outputs": [
    {
     "data": {
      "text/plain": [
       "array([[1.0, 0.0, 0.0, 0.0, 1, 0, 0, 1, 0, 2, 0, 1, 0],\n",
       "       [0.0, 0.0, 0.0, 1.0, 1, 0, 0, 1, 1, 0, 0, 0, 2],\n",
       "       [0.0, 1.0, 0.0, 0.0, 0, 1, 0, 0, 0, 0, 0, 0, 0],\n",
       "       [0.0, 0.0, 0.0, 1.0, 1, 0, 1, 1, 1, 0, 1, 0, 1],\n",
       "       [1.0, 0.0, 0.0, 0.0, 1, 0, 1, 0, 1, 2, 0, 1, 3],\n",
       "       [0.0, 0.0, 1.0, 0.0, 0, 1, 0, 1, 0, 1, 1, 1, 0],\n",
       "       [0.0, 1.0, 0.0, 0.0, 0, 1, 0, 0, 2, 0, 1, 0, 0],\n",
       "       [0.0, 0.0, 0.0, 1.0, 0, 0, 0, 1, 0, 1, 1, 1, 0],\n",
       "       [0.0, 1.0, 0.0, 0.0, 0, 1, 1, 0, 1, 0, 1, 0, 3],\n",
       "       [0.0, 0.0, 1.0, 0.0, 1, 1, 1, 1, 1, 2, 0, 1, 1],\n",
       "       [0.0, 0.0, 0.0, 1.0, 0, 0, 0, 0, 2, 0, 0, 0, 0],\n",
       "       [0.0, 1.0, 0.0, 0.0, 1, 1, 1, 1, 1, 0, 0, 0, 2]], dtype=object)"
      ]
     },
     "execution_count": 57,
     "metadata": {},
     "output_type": "execute_result"
    }
   ],
   "source": [
    "X_prev"
   ]
  },
  {
   "cell_type": "code",
   "execution_count": 58,
   "metadata": {
    "colab": {
     "base_uri": "https://localhost:8080/"
    },
    "id": "y9YbfO5mGyuN",
    "outputId": "fd7aa2af-248b-4042-c1c0-16a688352b17"
   },
   "outputs": [
    {
     "data": {
      "text/plain": [
       "array(['Sim', 'Nao', 'Sim', 'Sim', 'Nao', 'Sim', 'Nao', 'Sim', 'Nao',\n",
       "       'Nao', 'Nao', 'Sim'], dtype=object)"
      ]
     },
     "execution_count": 58,
     "metadata": {},
     "output_type": "execute_result"
    }
   ],
   "source": [
    "y_classe"
   ]
  },
  {
   "cell_type": "code",
   "execution_count": 59,
   "metadata": {
    "colab": {
     "base_uri": "https://localhost:8080/"
    },
    "id": "BBaT0pZRIocD",
    "outputId": "98f09df1-5748-4aba-d7bd-0543cf8597d8"
   },
   "outputs": [
    {
     "data": {
      "text/plain": [
       "(12,)"
      ]
     },
     "execution_count": 59,
     "metadata": {},
     "output_type": "execute_result"
    }
   ],
   "source": [
    "y_classe.shape"
   ]
  },
  {
   "cell_type": "code",
   "execution_count": 60,
   "metadata": {
    "id": "BQ7sHFHmDz_b"
   },
   "outputs": [],
   "source": [
    "#X_train_ds, X_test_ds, y_train_ds, y_test_ds = train_test_split(X, y, test_size=0.3, random_state=123, shuffle=True, stratify=y)\n",
    "X_treino, X_teste, y_treino, y_teste = train_test_split(X_prev, y_classe, test_size = 0.20, random_state = 23)"
   ]
  },
  {
   "cell_type": "code",
   "execution_count": 61,
   "metadata": {
    "colab": {
     "base_uri": "https://localhost:8080/"
    },
    "id": "nXswVGPeK_HB",
    "outputId": "8b7a2a4b-b5fc-474a-fbd8-9b00f46a94c6"
   },
   "outputs": [
    {
     "data": {
      "text/plain": [
       "(9, 13)"
      ]
     },
     "execution_count": 61,
     "metadata": {},
     "output_type": "execute_result"
    }
   ],
   "source": [
    "X_treino.shape"
   ]
  },
  {
   "cell_type": "code",
   "execution_count": 62,
   "metadata": {
    "colab": {
     "base_uri": "https://localhost:8080/"
    },
    "id": "Qt1gTVyxLAvS",
    "outputId": "cbc97996-5668-4854-fe21-d9c94265e947"
   },
   "outputs": [
    {
     "data": {
      "text/plain": [
       "(3, 13)"
      ]
     },
     "execution_count": 62,
     "metadata": {},
     "output_type": "execute_result"
    }
   ],
   "source": [
    "X_teste.shape"
   ]
  },
  {
   "cell_type": "markdown",
   "metadata": {
    "id": "xjXeoACF-VQ2"
   },
   "source": [
    "**Vamos experimentar agora o algoritmo Decision Tree?**"
   ]
  },
  {
   "cell_type": "code",
   "execution_count": 63,
   "metadata": {
    "id": "AClMh6N8-brS"
   },
   "outputs": [],
   "source": [
    "modelo = DecisionTreeClassifier(criterion='entropy')\n",
    "Y = modelo.fit(X_treino, y_treino)"
   ]
  },
  {
   "cell_type": "markdown",
   "metadata": {
    "id": "K0mMv2ee-giy"
   },
   "source": [
    "**Vamos testar o modelo?**"
   ]
  },
  {
   "cell_type": "code",
   "execution_count": 64,
   "metadata": {
    "id": "vSM0iojm-eJG"
   },
   "outputs": [],
   "source": [
    "previsoes = modelo.predict(X_teste)"
   ]
  },
  {
   "cell_type": "markdown",
   "metadata": {
    "id": "eaRwO_c6-o03"
   },
   "source": [
    "**Será se o modelo acertou?**"
   ]
  },
  {
   "cell_type": "code",
   "execution_count": 65,
   "metadata": {
    "colab": {
     "base_uri": "https://localhost:8080/"
    },
    "id": "NnjptUrX-rBj",
    "outputId": "24438111-b49c-42f3-dc8d-103b11848576"
   },
   "outputs": [
    {
     "data": {
      "text/plain": [
       "array(['Sim', 'Nao', 'Sim'], dtype=object)"
      ]
     },
     "execution_count": 65,
     "metadata": {},
     "output_type": "execute_result"
    }
   ],
   "source": [
    "y_teste"
   ]
  },
  {
   "cell_type": "code",
   "execution_count": 66,
   "metadata": {
    "colab": {
     "base_uri": "https://localhost:8080/"
    },
    "id": "Lfi0jKBQ-vL-",
    "outputId": "73bb551d-0f6c-4dab-b34b-b67bf279c8cb"
   },
   "outputs": [
    {
     "data": {
      "text/plain": [
       "0.3333333333333333"
      ]
     },
     "execution_count": 66,
     "metadata": {},
     "output_type": "execute_result"
    }
   ],
   "source": [
    "from sklearn.metrics import accuracy_score, confusion_matrix, classification_report\n",
    "accuracy_score(y_teste,previsoes)"
   ]
  },
  {
   "cell_type": "code",
   "execution_count": 67,
   "metadata": {
    "colab": {
     "base_uri": "https://localhost:8080/"
    },
    "id": "Pv0csSHt-wP5",
    "outputId": "41025326-d168-4153-bbcc-43c7e5525fc0"
   },
   "outputs": [
    {
     "data": {
      "text/plain": [
       "array([[0, 1],\n",
       "       [1, 1]], dtype=int64)"
      ]
     },
     "execution_count": 67,
     "metadata": {},
     "output_type": "execute_result"
    }
   ],
   "source": [
    "from yellowbrick.classifier import ConfusionMatrix\n",
    "confusion_matrix(y_teste, previsoes)"
   ]
  },
  {
   "cell_type": "code",
   "execution_count": 68,
   "metadata": {
    "colab": {
     "base_uri": "https://localhost:8080/",
     "height": 518
    },
    "id": "iMKsvFRN-yeq",
    "outputId": "49cbac75-0e9a-4324-8bc7-9817dcf70004"
   },
   "outputs": [
    {
     "data": {
      "text/plain": [
       "0.3333333333333333"
      ]
     },
     "execution_count": 68,
     "metadata": {},
     "output_type": "execute_result"
    },
    {
     "data": {
      "image/png": "[encoded data removed]",
      "text/plain": [
       "<Figure size 800x550 with 1 Axes>"
      ]
     },
     "metadata": {},
     "output_type": "display_data"
    }
   ],
   "source": [
    "cm = ConfusionMatrix(modelo)\n",
    "cm.fit(X_treino, y_treino)\n",
    "cm.score(X_teste, y_teste)"
   ]
  },
  {
   "cell_type": "code",
   "execution_count": 69,
   "metadata": {
    "colab": {
     "base_uri": "https://localhost:8080/"
    },
    "id": "2DmLhDE0-4pP",
    "outputId": "477bd6de-5dac-48c7-a445-7e4be2631507"
   },
   "outputs": [
    {
     "name": "stdout",
     "output_type": "stream",
     "text": [
      "              precision    recall  f1-score   support\n",
      "\n",
      "         Nao       0.00      0.00      0.00         1\n",
      "         Sim       0.50      0.50      0.50         2\n",
      "\n",
      "    accuracy                           0.33         3\n",
      "   macro avg       0.25      0.25      0.25         3\n",
      "weighted avg       0.33      0.33      0.33         3\n",
      "\n"
     ]
    }
   ],
   "source": [
    "print(classification_report(y_teste, previsoes))"
   ]
  },
  {
   "cell_type": "markdown",
   "metadata": {
    "id": "M_42WrGN_LrT"
   },
   "source": [
    "**Vamos ver a árvore?**"
   ]
  },
  {
   "cell_type": "code",
   "execution_count": 70,
   "metadata": {
    "colab": {
     "base_uri": "https://localhost:8080/",
     "height": 460
    },
    "id": "w69oiCuz_O9R",
    "outputId": "7b592fee-e606-487e-bf09-437b846807b9"
   },
   "outputs": [
    {
     "data": {
      "image/png": "[encoded data removed]",
      "text/plain": [
       "<Figure size 800x550 with 1 Axes>"
      ]
     },
     "metadata": {},
     "output_type": "display_data"
    }
   ],
   "source": [
    "from sklearn import tree\n",
    "plt.show(tree.plot_tree(Y))"
   ]
  },
  {
   "cell_type": "markdown",
   "metadata": {
    "id": "sy8alSty_P-B"
   },
   "source": [
    "**O que você achou? podemos fazê-la melhor! :-)**"
   ]
  },
  {
   "cell_type": "code",
   "execution_count": 74,
   "metadata": {
    "colab": {
     "base_uri": "https://localhost:8080/",
     "height": 754
    },
    "id": "fQb1CmKU_Wcz",
    "outputId": "dbadfc08-2cee-44b2-ba49-3c9adb8c7a5e"
   },
   "outputs": [
    {
     "data": {
      "image/png": "[encoded data removed]",
      "text/plain": [
       "<Figure size 1300x1300 with 1 Axes>"
      ]
     },
     "metadata": {},
     "output_type": "display_data"
    }
   ],
   "source": [
    "from sklearn import tree\n",
    "previsores = ['Frances', 'Hamburguer', 'Italiano', 'Tailandes', 'Alternativo', 'Bar', 'SextaSabado', 'Fome', 'Cliente', 'Preco','Chuva','Res', 'Tempo']\n",
    "figura, eixos = plt.subplots(nrows=1, ncols=1, figsize=(13,13))\n",
    "tree.plot_tree(modelo, feature_names=previsores, filled=True);"
   ]
  },
  {
   "cell_type": "code",
   "execution_count": null,
   "metadata": {},
   "outputs": [],
   "source": []
  }
 ],
 "metadata": {
  "colab": {
   "provenance": []
  },
  "kernelspec": {
   "display_name": "Python 3 (ipykernel)",
   "language": "python",
   "name": "python3"
  },
  "language_info": {
   "codemirror_mode": {
    "name": "ipython",
    "version": 3
   },
   "file_extension": ".py",
   "mimetype": "text/x-python",
   "name": "python",
   "nbconvert_exporter": "python",
   "pygments_lexer": "ipython3",
   "version": "3.8.5"
  }
 },
 "nbformat": 4,
 "nbformat_minor": 4
}
